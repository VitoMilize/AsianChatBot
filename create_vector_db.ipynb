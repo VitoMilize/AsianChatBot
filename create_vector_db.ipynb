{
 "cells": [
  {
   "cell_type": "code",
   "id": "initial_id",
   "metadata": {
    "collapsed": true,
    "ExecuteTime": {
     "end_time": "2024-06-20T19:59:25.370722Z",
     "start_time": "2024-06-20T19:59:25.086223Z"
    }
   },
   "source": [
    "import chromadb\n",
    "import pandas as pd"
   ],
   "outputs": [],
   "execution_count": 14
  },
  {
   "metadata": {
    "ExecuteTime": {
     "end_time": "2024-06-20T19:59:26.667993Z",
     "start_time": "2024-06-20T19:59:26.662873Z"
    }
   },
   "cell_type": "code",
   "source": [
    "client = chromadb.Client()\n",
    "collection = client.get_collection(\"test_collection\")\n",
    "# collection = client.create_collection(\"test_collection\")"
   ],
   "id": "538959a1028bdeb1",
   "outputs": [],
   "execution_count": 15
  },
  {
   "metadata": {
    "ExecuteTime": {
     "end_time": "2024-06-20T19:52:40.777450Z",
     "start_time": "2024-06-20T19:52:40.614690Z"
    }
   },
   "cell_type": "code",
   "source": [
    "collection.add(\n",
    "    documents=[\"このページの本文へ\"],\n",
    "    ids=[\"doc3\"],\n",
    ")"
   ],
   "id": "e401ee5a28b0fe3f",
   "outputs": [
    {
     "name": "stderr",
     "output_type": "stream",
     "text": [
      "Add of existing embedding ID: doc3\n",
      "Insert of existing embedding ID: doc3\n"
     ]
    }
   ],
   "execution_count": 11
  },
  {
   "metadata": {
    "ExecuteTime": {
     "end_time": "2024-06-20T19:59:28.798075Z",
     "start_time": "2024-06-20T19:59:28.774966Z"
    }
   },
   "cell_type": "code",
   "source": [
    "results = collection.query(\n",
    "    query_texts=[\"This is document2\"],\n",
    "    n_results=3\n",
    ")\n",
    "results"
   ],
   "id": "a1171bdc6379ba00",
   "outputs": [
    {
     "name": "stderr",
     "output_type": "stream",
     "text": [
      "Number of requested results 5 is greater than number of elements in index 3, updating n_results = 3\n"
     ]
    },
    {
     "data": {
      "text/plain": [
       "{'ids': [['doc2', 'doc1', 'doc3']],\n",
       " 'distances': [[0.0, 0.2221541851758957, 1.6004157066345215]],\n",
       " 'metadatas': [[None, None, None]],\n",
       " 'embeddings': None,\n",
       " 'documents': [['This is document2', 'This is document1', 'このページの本文へ']],\n",
       " 'uris': None,\n",
       " 'data': None,\n",
       " 'included': ['metadatas', 'documents', 'distances']}"
      ]
     },
     "execution_count": 16,
     "metadata": {},
     "output_type": "execute_result"
    }
   ],
   "execution_count": 16
  },
  {
   "metadata": {
    "ExecuteTime": {
     "end_time": "2024-06-20T19:59:42.777888Z",
     "start_time": "2024-06-20T19:59:42.770129Z"
    }
   },
   "cell_type": "code",
   "source": [
    "df = pd.DataFrame({\n",
    "    'ids': results['ids'][0],\n",
    "    'distances': results['distances'][0],\n",
    "    'metadatas': results['metadatas'][0],\n",
    "    'documents': results['documents'][0]\n",
    "})\n",
    "df"
   ],
   "id": "a01289c86b47be5",
   "outputs": [
    {
     "data": {
      "text/plain": [
       "    ids  distances metadatas          documents\n",
       "0  doc2   0.000000      None  This is document2\n",
       "1  doc1   0.222154      None  This is document1\n",
       "2  doc3   1.600416      None          このページの本文へ"
      ],
      "text/html": [
       "<div>\n",
       "<style scoped>\n",
       "    .dataframe tbody tr th:only-of-type {\n",
       "        vertical-align: middle;\n",
       "    }\n",
       "\n",
       "    .dataframe tbody tr th {\n",
       "        vertical-align: top;\n",
       "    }\n",
       "\n",
       "    .dataframe thead th {\n",
       "        text-align: right;\n",
       "    }\n",
       "</style>\n",
       "<table border=\"1\" class=\"dataframe\">\n",
       "  <thead>\n",
       "    <tr style=\"text-align: right;\">\n",
       "      <th></th>\n",
       "      <th>ids</th>\n",
       "      <th>distances</th>\n",
       "      <th>metadatas</th>\n",
       "      <th>documents</th>\n",
       "    </tr>\n",
       "  </thead>\n",
       "  <tbody>\n",
       "    <tr>\n",
       "      <th>0</th>\n",
       "      <td>doc2</td>\n",
       "      <td>0.000000</td>\n",
       "      <td>None</td>\n",
       "      <td>This is document2</td>\n",
       "    </tr>\n",
       "    <tr>\n",
       "      <th>1</th>\n",
       "      <td>doc1</td>\n",
       "      <td>0.222154</td>\n",
       "      <td>None</td>\n",
       "      <td>This is document1</td>\n",
       "    </tr>\n",
       "    <tr>\n",
       "      <th>2</th>\n",
       "      <td>doc3</td>\n",
       "      <td>1.600416</td>\n",
       "      <td>None</td>\n",
       "      <td>このページの本文へ</td>\n",
       "    </tr>\n",
       "  </tbody>\n",
       "</table>\n",
       "</div>"
      ]
     },
     "execution_count": 18,
     "metadata": {},
     "output_type": "execute_result"
    }
   ],
   "execution_count": 18
  },
  {
   "metadata": {
    "ExecuteTime": {
     "end_time": "2024-06-20T20:57:51.910264Z",
     "start_time": "2024-06-20T20:57:51.903416Z"
    }
   },
   "cell_type": "code",
   "source": [
    "import re\n",
    "\n",
    "def smart_chunk_text(text, max_length):\n",
    "    sentences = re.split(r'(?<=[。！？])', text)\n",
    "    sentences = [sentence for sentence in sentences if sentence.strip()]\n",
    "    \n",
    "    chunks = []\n",
    "    current_chunk = \"\"\n",
    "    \n",
    "    for sentence in sentences:\n",
    "        if len(current_chunk) + len(sentence) > max_length:\n",
    "            chunks.append(current_chunk.strip())\n",
    "            current_chunk = sentence\n",
    "        else:\n",
    "            current_chunk += sentence\n",
    "    \n",
    "    if current_chunk:\n",
    "        chunks.append(current_chunk.strip())\n",
    "    \n",
    "    return chunks\n",
    "\n",
    "# Пример текста и максимальная длина чанков\n",
    "text = \"\"\"2016年12月16日から18日の日程で、韓国ギョンギ道のギョンギジムにおいて開催された、世界最大規模のeスポーツ世界大会「Intel Extreme Masters（IEM）」ギョンギ大会。最終日の18日に、今回の大会で競われた3タイトルの決勝戦が行われた。\n",
    "今回のIEMギョンギ大会で競われた種目は「Overwatch」、「StarCraft II」、そして「League of Legends」の3タイトル。 こちらの記事 で紹介しているように、16日と17日にそれぞれの種目でトーナメント戦を開催して決勝進出2チームを選出。そして、最終日の18日に全種目の決勝戦が行われた。\n",
    "まず最初に決勝戦が行われたのが、Overwatchだ。6人対6人のチーム戦で、最大5戦の3戦先勝マッチで競った。決勝に進出したのは、チーム「Lunatic Hai」と、チーム「Luxury Watch Red」。どちらも準々決勝を3勝0敗、準決勝を3勝1敗と、圧倒的な強さで勝ち上がってきたチームで、決勝戦は実力伯仲。実際、決勝戦の最初の2戦は、双方が1勝ずつと、期待通りの立ち上がりとなった。しかし、その後Luxury Watch Redチームが2連勝を成し遂げ、3勝1敗で優勝となった。\n",
    "続いて開催されたのが、StarCraft IIの決勝戦。こちらは1対1の個人戦種目で、最大7戦の4戦先勝マッチで行われた。決勝に勝ち進んだのは、予選から全戦無敗で勝ち上がってきた「INnoVation」選手と、予選AブロックでINnoVation選手に1敗したものの、それ以降全勝して勝ち上がった「Stats」選手の2名。予選での戦いぶりから、INnoVation選手が頭一つ抜け出た実力があると感じていたが、決勝戦でもINnoVation選手が実力を遺憾なく発揮し、4勝0敗と一方的な試合内容で完勝。予選から決勝まで、一度も負けることなく優勝を勝ち取った。\n",
    "最後の決勝戦となったのがLeague of Legends。こちらは5人対5人のチーム戦で、最大5戦の3戦先勝マッチで競った。決勝に出場したのは、予選から無敗で勝ち上がってきたチーム「Samsung Galaxy」と、プレーオフで1度だけ負けたが、危なげなく勝ち上がってきたチーム「Kongdoo Master」の2チームだ。どちらも韓国内の人気チームで、会場には双方のサポーターが詰めかけて応援にも力が入っており、試合内容も同様に手に汗握るものとなった。1試合のプレー時間が40分ほどに及ぶ長丁場となる中、まずSamsung Galaxyチームが2戦先勝して優勝にリーチをかけた。追い詰められたKongdoo Masterチームだったが、ここで気合いを入れ直し3戦目で勝利をもぎ取る。しかし、4戦目はまたもやSamsung Galaxyチームにリードを許し、結局3勝1敗でSamsung Galaxyチームの優勝で幕を閉じた。\n",
    "今回筆者は、IEM大会を初めて取材したが、その規模の大きさに驚かされた。世界的にもeスポーツが盛んな国として認知されている韓国だからこそ、プロのバスケットボールチームがホームグラウンドにするような大きな体育館を会場にできたのだろう。まだまだeスポーツが認知されておらず、小規模な大会を開催することすら難しい状況の日本とは、大きな隔たりがあると感じた。\n",
    "また、韓国でのeスポーツの人気の高さも伝わってきた。観戦するには有料チケットが必要だが、それでも大勢の観客が集まっていたし、人気プレーヤーの追っかけも多く見かけた。そして、各種目の優勝チームと準優勝チームのサイン会がロビーで行われていたが、若い女性を中心とした長蛇の列ができていた点からも、人気の高さを如実に感じれた。\n",
    "今回の大会に参加したチームは、そのほとんどが韓国チームだった点も驚いた部分だ。もちろん、地元韓国での開催という部分もあるが、IEMは大規模な国際大会で、地元以外の国からのエントリーも少なくなく、当然本戦に出場するには予選を勝ち抜く必要がある。そう考えると、韓国eスポーツ界の層の厚さと実力の高さについて、疑いの余地はないだろう。\n",
    "ただ、それだけeスポーツの人気も実力もある韓国で開催した大会ながら、会場にはかなり多くの空席が目立っていたのは気になった。予選の2日間は座席が1割ほどしか埋まらず、決勝戦が行われた最終日でもかろうじてアリーナ席が7割近く埋まった程度で、その他の座席はほぼ空席。全座席に対して4割に満たないほどの観客数だった。ソウルから30kmほど離れた場所でややアクセスが不便だったことや、韓国のeスポーツ専門チャンネルが連日試合を生中継していたことも影響しているかもしれないが、それでも会場の観客の少なさはかなり気になった。決勝戦は十分な盛り上がりを見せたが、大会運営には課題が残されたと感じた。今回の大会内容を分析し、今後のよりよい大会運営に活かされることを期待したい。\n",
    "今回、IEMギョンギ大会に参加して、やはり日本でもeスポーツがもっと盛り上がってほしいという気持ちが一層強くなった。以前に比べて、日本でもeスポーツの認知度は高まりつつあるが、まだ世界的な舞台に立つまでに至っていないと再認識させられた。eスポーツを他のスポーツと同様に扱うだけでなく、\"eスポーツ＝とはいえ単なるゲーム\"という日本独特の意識も変革しながら、競技人口を増やし、実力を高めることが欠かせないだろう。その上で、官民一体となって盛り上げてもらいたいと思う。\"\"\"\n",
    "max_length = 500\n",
    "\n",
    "# Чанкинг текста\n",
    "chunks = smart_chunk_text(text, max_length)\n",
    "for chunk in chunks:\n",
    "    print(chunk)\n",
    "    print()\n"
   ],
   "id": "ba474d55111f353d",
   "outputs": [
    {
     "name": "stdout",
     "output_type": "stream",
     "text": [
      "2016年12月16日から18日の日程で、韓国ギョンギ道のギョンギジムにおいて開催された、世界最大規模のeスポーツ世界大会「Intel Extreme Masters（IEM）」ギョンギ大会。最終日の18日に、今回の大会で競われた3タイトルの決勝戦が行われた。\n",
      "今回のIEMギョンギ大会で競われた種目は「Overwatch」、「StarCraft II」、そして「League of Legends」の3タイトル。 こちらの記事 で紹介しているように、16日と17日にそれぞれの種目でトーナメント戦を開催して決勝進出2チームを選出。そして、最終日の18日に全種目の決勝戦が行われた。\n",
      "まず最初に決勝戦が行われたのが、Overwatchだ。6人対6人のチーム戦で、最大5戦の3戦先勝マッチで競った。決勝に進出したのは、チーム「Lunatic Hai」と、チーム「Luxury Watch Red」。どちらも準々決勝を3勝0敗、準決勝を3勝1敗と、圧倒的な強さで勝ち上がってきたチームで、決勝戦は実力伯仲。実際、決勝戦の最初の2戦は、双方が1勝ずつと、期待通りの立ち上がりとなった。\n",
      "\n",
      "しかし、その後Luxury Watch Redチームが2連勝を成し遂げ、3勝1敗で優勝となった。\n",
      "続いて開催されたのが、StarCraft IIの決勝戦。こちらは1対1の個人戦種目で、最大7戦の4戦先勝マッチで行われた。決勝に勝ち進んだのは、予選から全戦無敗で勝ち上がってきた「INnoVation」選手と、予選AブロックでINnoVation選手に1敗したものの、それ以降全勝して勝ち上がった「Stats」選手の2名。予選での戦いぶりから、INnoVation選手が頭一つ抜け出た実力があると感じていたが、決勝戦でもINnoVation選手が実力を遺憾なく発揮し、4勝0敗と一方的な試合内容で完勝。予選から決勝まで、一度も負けることなく優勝を勝ち取った。\n",
      "最後の決勝戦となったのがLeague of Legends。こちらは5人対5人のチーム戦で、最大5戦の3戦先勝マッチで競った。決勝に出場したのは、予選から無敗で勝ち上がってきたチーム「Samsung Galaxy」と、プレーオフで1度だけ負けたが、危なげなく勝ち上がってきたチーム「Kongdoo Master」の2チームだ。\n",
      "\n",
      "どちらも韓国内の人気チームで、会場には双方のサポーターが詰めかけて応援にも力が入っており、試合内容も同様に手に汗握るものとなった。1試合のプレー時間が40分ほどに及ぶ長丁場となる中、まずSamsung Galaxyチームが2戦先勝して優勝にリーチをかけた。追い詰められたKongdoo Masterチームだったが、ここで気合いを入れ直し3戦目で勝利をもぎ取る。しかし、4戦目はまたもやSamsung Galaxyチームにリードを許し、結局3勝1敗でSamsung Galaxyチームの優勝で幕を閉じた。\n",
      "今回筆者は、IEM大会を初めて取材したが、その規模の大きさに驚かされた。世界的にもeスポーツが盛んな国として認知されている韓国だからこそ、プロのバスケットボールチームがホームグラウンドにするような大きな体育館を会場にできたのだろう。まだまだeスポーツが認知されておらず、小規模な大会を開催することすら難しい状況の日本とは、大きな隔たりがあると感じた。\n",
      "また、韓国でのeスポーツの人気の高さも伝わってきた。\n",
      "\n",
      "観戦するには有料チケットが必要だが、それでも大勢の観客が集まっていたし、人気プレーヤーの追っかけも多く見かけた。そして、各種目の優勝チームと準優勝チームのサイン会がロビーで行われていたが、若い女性を中心とした長蛇の列ができていた点からも、人気の高さを如実に感じれた。\n",
      "今回の大会に参加したチームは、そのほとんどが韓国チームだった点も驚いた部分だ。もちろん、地元韓国での開催という部分もあるが、IEMは大規模な国際大会で、地元以外の国からのエントリーも少なくなく、当然本戦に出場するには予選を勝ち抜く必要がある。そう考えると、韓国eスポーツ界の層の厚さと実力の高さについて、疑いの余地はないだろう。\n",
      "ただ、それだけeスポーツの人気も実力もある韓国で開催した大会ながら、会場にはかなり多くの空席が目立っていたのは気になった。予選の2日間は座席が1割ほどしか埋まらず、決勝戦が行われた最終日でもかろうじてアリーナ席が7割近く埋まった程度で、その他の座席はほぼ空席。全座席に対して4割に満たないほどの観客数だった。\n",
      "\n",
      "ソウルから30kmほど離れた場所でややアクセスが不便だったことや、韓国のeスポーツ専門チャンネルが連日試合を生中継していたことも影響しているかもしれないが、それでも会場の観客の少なさはかなり気になった。決勝戦は十分な盛り上がりを見せたが、大会運営には課題が残されたと感じた。今回の大会内容を分析し、今後のよりよい大会運営に活かされることを期待したい。\n",
      "今回、IEMギョンギ大会に参加して、やはり日本でもeスポーツがもっと盛り上がってほしいという気持ちが一層強くなった。以前に比べて、日本でもeスポーツの認知度は高まりつつあるが、まだ世界的な舞台に立つまでに至っていないと再認識させられた。eスポーツを他のスポーツと同様に扱うだけでなく、\"eスポーツ＝とはいえ単なるゲーム\"という日本独特の意識も変革しながら、競技人口を増やし、実力を高めることが欠かせないだろう。その上で、官民一体となって盛り上げてもらいたいと思う。\n",
      "\n"
     ]
    }
   ],
   "execution_count": 22
  },
  {
   "metadata": {},
   "cell_type": "code",
   "outputs": [],
   "execution_count": null,
   "source": "",
   "id": "aba5f62986fca562"
  }
 ],
 "metadata": {
  "kernelspec": {
   "display_name": "Python 3",
   "language": "python",
   "name": "python3"
  },
  "language_info": {
   "codemirror_mode": {
    "name": "ipython",
    "version": 2
   },
   "file_extension": ".py",
   "mimetype": "text/x-python",
   "name": "python",
   "nbconvert_exporter": "python",
   "pygments_lexer": "ipython2",
   "version": "2.7.6"
  }
 },
 "nbformat": 4,
 "nbformat_minor": 5
}
